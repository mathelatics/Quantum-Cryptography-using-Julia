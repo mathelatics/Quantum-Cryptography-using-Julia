{
 "cells": [
  {
   "attachments": {},
   "cell_type": "markdown",
   "metadata": {},
   "source": [
    "# Quantum Fourier Transform from Theoretical to Practical Perspective\n",
    "After, reading the title of the article students have lots of questions like What is Fourier Transform and What is Fourier Series ? and how these classical computational concepts are applied to the quantum computation ? We will explore it from the classical to the quantum theoretical and practical aspects."
   ]
  },
  {
   "cell_type": "code",
   "execution_count": null,
   "metadata": {},
   "outputs": [],
   "source": [
    "\\alpha \\ket 0 + \\beta \\ket 1 \\in  \\mathbb{C^{2}}"
   ]
  },
  {
   "attachments": {},
   "cell_type": "markdown",
   "metadata": {},
   "source": [
    "Let a quantum state $\\ket x = \\sum_{i=0}^{n-1} x_i \\ket i$ and applying the quantum fourier transform on the quantum state $\\ket X$, we get another transformed quantum state, let say $\\ket y = \\sum_{i=0}^{n-1} y_i \\ket i$ such that $$y_k = \\frac{1}{\\sqrt{n}} \\sum_{i=0}^{n-1} x_i \\omega_{n}^{ik} $$ where $\\omega_{n} = e^\\frac{2\\pi i}{n}$ is the $n^{th}$ root of unity"
   ]
  },
  {
   "attachments": {},
   "cell_type": "markdown",
   "metadata": {},
   "source": []
  }
 ],
 "metadata": {
  "language_info": {
   "name": "python"
  },
  "orig_nbformat": 4
 },
 "nbformat": 4,
 "nbformat_minor": 2
}
